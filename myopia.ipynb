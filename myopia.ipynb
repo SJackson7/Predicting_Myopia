{
 "cells": [
  {
   "cell_type": "code",
   "execution_count": 1,
   "metadata": {},
   "outputs": [],
   "source": [
    "# dependencies\n",
    "import pandas as me\n",
    "import matplotlib.pyplot as plt\n",
    "\n",
    "from pathlib import Path\n",
    "from sklearn.preprocessing import StandardScaler\n",
    "from sklearn.decomposition import PCA\n",
    "from sklearn.manifold import TSNE\n",
    "from sklearn.cluster import KMeans\n",
    "\n",
    "import warnings\n",
    "warnings.filterwarnings('ignore')"
   ]
  },
  {
   "cell_type": "markdown",
   "metadata": {},
   "source": [
    "#### Prepare the Data"
   ]
  },
  {
   "cell_type": "code",
   "execution_count": 2,
   "metadata": {},
   "outputs": [
    {
     "data": {
      "text/html": [
       "<div>\n",
       "<style scoped>\n",
       "    .dataframe tbody tr th:only-of-type {\n",
       "        vertical-align: middle;\n",
       "    }\n",
       "\n",
       "    .dataframe tbody tr th {\n",
       "        vertical-align: top;\n",
       "    }\n",
       "\n",
       "    .dataframe thead th {\n",
       "        text-align: right;\n",
       "    }\n",
       "</style>\n",
       "<table border=\"1\" class=\"dataframe\">\n",
       "  <thead>\n",
       "    <tr style=\"text-align: right;\">\n",
       "      <th></th>\n",
       "      <th>AGE</th>\n",
       "      <th>SPHEQ</th>\n",
       "      <th>AL</th>\n",
       "      <th>ACD</th>\n",
       "      <th>LT</th>\n",
       "      <th>VCD</th>\n",
       "      <th>SPORTHR</th>\n",
       "      <th>READHR</th>\n",
       "      <th>COMPHR</th>\n",
       "      <th>STUDYHR</th>\n",
       "      <th>TVHR</th>\n",
       "      <th>DIOPTERHR</th>\n",
       "      <th>MOMMY</th>\n",
       "      <th>DADMY</th>\n",
       "      <th>MYOPIC</th>\n",
       "    </tr>\n",
       "  </thead>\n",
       "  <tbody>\n",
       "    <tr>\n",
       "      <th>0</th>\n",
       "      <td>6</td>\n",
       "      <td>-0.052</td>\n",
       "      <td>21.889999</td>\n",
       "      <td>3.690</td>\n",
       "      <td>3.498</td>\n",
       "      <td>14.70</td>\n",
       "      <td>45</td>\n",
       "      <td>8</td>\n",
       "      <td>0</td>\n",
       "      <td>0</td>\n",
       "      <td>10</td>\n",
       "      <td>34</td>\n",
       "      <td>1</td>\n",
       "      <td>1</td>\n",
       "      <td>1</td>\n",
       "    </tr>\n",
       "    <tr>\n",
       "      <th>1</th>\n",
       "      <td>6</td>\n",
       "      <td>0.608</td>\n",
       "      <td>22.379999</td>\n",
       "      <td>3.702</td>\n",
       "      <td>3.392</td>\n",
       "      <td>15.29</td>\n",
       "      <td>4</td>\n",
       "      <td>0</td>\n",
       "      <td>1</td>\n",
       "      <td>1</td>\n",
       "      <td>7</td>\n",
       "      <td>12</td>\n",
       "      <td>1</td>\n",
       "      <td>1</td>\n",
       "      <td>0</td>\n",
       "    </tr>\n",
       "    <tr>\n",
       "      <th>2</th>\n",
       "      <td>6</td>\n",
       "      <td>1.179</td>\n",
       "      <td>22.490000</td>\n",
       "      <td>3.462</td>\n",
       "      <td>3.514</td>\n",
       "      <td>15.52</td>\n",
       "      <td>14</td>\n",
       "      <td>0</td>\n",
       "      <td>2</td>\n",
       "      <td>0</td>\n",
       "      <td>10</td>\n",
       "      <td>14</td>\n",
       "      <td>0</td>\n",
       "      <td>0</td>\n",
       "      <td>0</td>\n",
       "    </tr>\n",
       "    <tr>\n",
       "      <th>3</th>\n",
       "      <td>6</td>\n",
       "      <td>0.525</td>\n",
       "      <td>22.200001</td>\n",
       "      <td>3.862</td>\n",
       "      <td>3.612</td>\n",
       "      <td>14.73</td>\n",
       "      <td>18</td>\n",
       "      <td>11</td>\n",
       "      <td>0</td>\n",
       "      <td>0</td>\n",
       "      <td>4</td>\n",
       "      <td>37</td>\n",
       "      <td>0</td>\n",
       "      <td>1</td>\n",
       "      <td>1</td>\n",
       "    </tr>\n",
       "    <tr>\n",
       "      <th>4</th>\n",
       "      <td>5</td>\n",
       "      <td>0.697</td>\n",
       "      <td>23.290001</td>\n",
       "      <td>3.676</td>\n",
       "      <td>3.454</td>\n",
       "      <td>16.16</td>\n",
       "      <td>14</td>\n",
       "      <td>0</td>\n",
       "      <td>0</td>\n",
       "      <td>0</td>\n",
       "      <td>4</td>\n",
       "      <td>4</td>\n",
       "      <td>1</td>\n",
       "      <td>0</td>\n",
       "      <td>0</td>\n",
       "    </tr>\n",
       "  </tbody>\n",
       "</table>\n",
       "</div>"
      ],
      "text/plain": [
       "   AGE  SPHEQ         AL    ACD     LT    VCD  SPORTHR  READHR  COMPHR  \\\n",
       "0    6 -0.052  21.889999  3.690  3.498  14.70       45       8       0   \n",
       "1    6  0.608  22.379999  3.702  3.392  15.29        4       0       1   \n",
       "2    6  1.179  22.490000  3.462  3.514  15.52       14       0       2   \n",
       "3    6  0.525  22.200001  3.862  3.612  14.73       18      11       0   \n",
       "4    5  0.697  23.290001  3.676  3.454  16.16       14       0       0   \n",
       "\n",
       "   STUDYHR  TVHR  DIOPTERHR  MOMMY  DADMY  MYOPIC  \n",
       "0        0    10         34      1      1       1  \n",
       "1        1     7         12      1      1       0  \n",
       "2        0    10         14      0      0       0  \n",
       "3        0     4         37      0      1       1  \n",
       "4        0     4          4      1      0       0  "
      ]
     },
     "execution_count": 2,
     "metadata": {},
     "output_type": "execute_result"
    }
   ],
   "source": [
    "# read myopia.csv into a Pandas DataFrame\n",
    "file_path = Path('resources/myopia.csv')\n",
    "df_myopia = me.read_csv(file_path)\n",
    "df_myopia.head()"
   ]
  },
  {
   "cell_type": "code",
   "execution_count": 3,
   "metadata": {},
   "outputs": [
    {
     "data": {
      "text/plain": [
       "AGE            int64\n",
       "SPHEQ        float64\n",
       "AL           float64\n",
       "ACD          float64\n",
       "LT           float64\n",
       "VCD          float64\n",
       "SPORTHR        int64\n",
       "READHR         int64\n",
       "COMPHR         int64\n",
       "STUDYHR        int64\n",
       "TVHR           int64\n",
       "DIOPTERHR      int64\n",
       "MOMMY          int64\n",
       "DADMY          int64\n",
       "MYOPIC         int64\n",
       "dtype: object"
      ]
     },
     "execution_count": 3,
     "metadata": {},
     "output_type": "execute_result"
    }
   ],
   "source": [
    "# list dataframe data types\n",
    "df_myopia.dtypes"
   ]
  },
  {
   "cell_type": "code",
   "execution_count": 4,
   "metadata": {},
   "outputs": [
    {
     "data": {
      "text/plain": [
       "(618, 15)"
      ]
     },
     "execution_count": 4,
     "metadata": {},
     "output_type": "execute_result"
    }
   ],
   "source": [
    "# DataFrame shape of features\n",
    "labels = df_myopia['MYOPIC']\n",
    "df_myopia.shape"
   ]
  },
  {
   "cell_type": "code",
   "execution_count": 5,
   "metadata": {},
   "outputs": [
    {
     "name": "stdout",
     "output_type": "stream",
     "text": [
      "Column AGE has 0 null values\n",
      "Column SPHEQ has 0 null values\n",
      "Column AL has 0 null values\n",
      "Column ACD has 0 null values\n",
      "Column LT has 0 null values\n",
      "Column VCD has 0 null values\n",
      "Column SPORTHR has 0 null values\n",
      "Column READHR has 0 null values\n",
      "Column COMPHR has 0 null values\n",
      "Column STUDYHR has 0 null values\n",
      "Column TVHR has 0 null values\n",
      "Column DIOPTERHR has 0 null values\n",
      "Column MOMMY has 0 null values\n",
      "Column DADMY has 0 null values\n",
      "Column MYOPIC has 0 null values\n",
      "\n",
      "Duplicate row entries: 0\n"
     ]
    }
   ],
   "source": [
    "# find any existing null values in each column and display\n",
    "for column in df_myopia.columns:\n",
    "    print(f'Column {column} has {df_myopia[column].isnull().sum()} null values')\n",
    "\n",
    "# find duplicate row entries\n",
    "print(f'\\nDuplicate row entries: {df_myopia.duplicated().sum()}')"
   ]
  },
  {
   "cell_type": "code",
   "execution_count": 6,
   "metadata": {},
   "outputs": [
    {
     "data": {
      "text/html": [
       "<div>\n",
       "<style scoped>\n",
       "    .dataframe tbody tr th:only-of-type {\n",
       "        vertical-align: middle;\n",
       "    }\n",
       "\n",
       "    .dataframe tbody tr th {\n",
       "        vertical-align: top;\n",
       "    }\n",
       "\n",
       "    .dataframe thead th {\n",
       "        text-align: right;\n",
       "    }\n",
       "</style>\n",
       "<table border=\"1\" class=\"dataframe\">\n",
       "  <thead>\n",
       "    <tr style=\"text-align: right;\">\n",
       "      <th></th>\n",
       "      <th>AGE</th>\n",
       "      <th>SPHEQ</th>\n",
       "      <th>AL</th>\n",
       "      <th>ACD</th>\n",
       "      <th>LT</th>\n",
       "      <th>VCD</th>\n",
       "      <th>SPORTHR</th>\n",
       "      <th>READHR</th>\n",
       "      <th>COMPHR</th>\n",
       "      <th>STUDYHR</th>\n",
       "      <th>TVHR</th>\n",
       "      <th>DIOPTERHR</th>\n",
       "      <th>MOMMY</th>\n",
       "      <th>DADMY</th>\n",
       "      <th>MYOPIC</th>\n",
       "    </tr>\n",
       "  </thead>\n",
       "  <tbody>\n",
       "    <tr>\n",
       "      <th>count</th>\n",
       "      <td>618.000000</td>\n",
       "      <td>618.000000</td>\n",
       "      <td>618.000000</td>\n",
       "      <td>618.000000</td>\n",
       "      <td>618.000000</td>\n",
       "      <td>618.000000</td>\n",
       "      <td>618.000000</td>\n",
       "      <td>618.000000</td>\n",
       "      <td>618.000000</td>\n",
       "      <td>618.000000</td>\n",
       "      <td>618.000000</td>\n",
       "      <td>618.000000</td>\n",
       "      <td>618.000000</td>\n",
       "      <td>618.000000</td>\n",
       "      <td>618.000000</td>\n",
       "    </tr>\n",
       "    <tr>\n",
       "      <th>mean</th>\n",
       "      <td>6.299353</td>\n",
       "      <td>0.801010</td>\n",
       "      <td>22.496780</td>\n",
       "      <td>3.578629</td>\n",
       "      <td>3.541453</td>\n",
       "      <td>15.376780</td>\n",
       "      <td>11.953074</td>\n",
       "      <td>2.796117</td>\n",
       "      <td>2.105178</td>\n",
       "      <td>1.490291</td>\n",
       "      <td>8.948220</td>\n",
       "      <td>26.017799</td>\n",
       "      <td>0.506472</td>\n",
       "      <td>0.498382</td>\n",
       "      <td>0.131068</td>\n",
       "    </tr>\n",
       "    <tr>\n",
       "      <th>std</th>\n",
       "      <td>0.712950</td>\n",
       "      <td>0.625918</td>\n",
       "      <td>0.680141</td>\n",
       "      <td>0.230394</td>\n",
       "      <td>0.154519</td>\n",
       "      <td>0.664183</td>\n",
       "      <td>7.968296</td>\n",
       "      <td>3.068191</td>\n",
       "      <td>3.056508</td>\n",
       "      <td>2.216207</td>\n",
       "      <td>5.719021</td>\n",
       "      <td>16.031715</td>\n",
       "      <td>0.500363</td>\n",
       "      <td>0.500402</td>\n",
       "      <td>0.337748</td>\n",
       "    </tr>\n",
       "    <tr>\n",
       "      <th>min</th>\n",
       "      <td>5.000000</td>\n",
       "      <td>-0.699000</td>\n",
       "      <td>19.900000</td>\n",
       "      <td>2.772000</td>\n",
       "      <td>2.960000</td>\n",
       "      <td>13.380000</td>\n",
       "      <td>0.000000</td>\n",
       "      <td>0.000000</td>\n",
       "      <td>0.000000</td>\n",
       "      <td>0.000000</td>\n",
       "      <td>0.000000</td>\n",
       "      <td>2.000000</td>\n",
       "      <td>0.000000</td>\n",
       "      <td>0.000000</td>\n",
       "      <td>0.000000</td>\n",
       "    </tr>\n",
       "    <tr>\n",
       "      <th>25%</th>\n",
       "      <td>6.000000</td>\n",
       "      <td>0.456250</td>\n",
       "      <td>22.040001</td>\n",
       "      <td>3.424000</td>\n",
       "      <td>3.436000</td>\n",
       "      <td>14.930000</td>\n",
       "      <td>6.000000</td>\n",
       "      <td>0.000000</td>\n",
       "      <td>0.000000</td>\n",
       "      <td>0.000000</td>\n",
       "      <td>4.250000</td>\n",
       "      <td>15.000000</td>\n",
       "      <td>0.000000</td>\n",
       "      <td>0.000000</td>\n",
       "      <td>0.000000</td>\n",
       "    </tr>\n",
       "    <tr>\n",
       "      <th>50%</th>\n",
       "      <td>6.000000</td>\n",
       "      <td>0.729000</td>\n",
       "      <td>22.464999</td>\n",
       "      <td>3.585000</td>\n",
       "      <td>3.542000</td>\n",
       "      <td>15.360000</td>\n",
       "      <td>10.000000</td>\n",
       "      <td>2.000000</td>\n",
       "      <td>1.000000</td>\n",
       "      <td>1.000000</td>\n",
       "      <td>8.000000</td>\n",
       "      <td>23.000000</td>\n",
       "      <td>1.000000</td>\n",
       "      <td>0.000000</td>\n",
       "      <td>0.000000</td>\n",
       "    </tr>\n",
       "    <tr>\n",
       "      <th>75%</th>\n",
       "      <td>6.000000</td>\n",
       "      <td>1.034000</td>\n",
       "      <td>22.969999</td>\n",
       "      <td>3.730000</td>\n",
       "      <td>3.640000</td>\n",
       "      <td>15.840000</td>\n",
       "      <td>16.000000</td>\n",
       "      <td>4.000000</td>\n",
       "      <td>3.000000</td>\n",
       "      <td>2.000000</td>\n",
       "      <td>12.000000</td>\n",
       "      <td>34.000000</td>\n",
       "      <td>1.000000</td>\n",
       "      <td>1.000000</td>\n",
       "      <td>0.000000</td>\n",
       "    </tr>\n",
       "    <tr>\n",
       "      <th>max</th>\n",
       "      <td>9.000000</td>\n",
       "      <td>4.372000</td>\n",
       "      <td>24.559999</td>\n",
       "      <td>4.250000</td>\n",
       "      <td>4.112000</td>\n",
       "      <td>17.299999</td>\n",
       "      <td>45.000000</td>\n",
       "      <td>20.000000</td>\n",
       "      <td>30.000000</td>\n",
       "      <td>15.000000</td>\n",
       "      <td>31.000000</td>\n",
       "      <td>101.000000</td>\n",
       "      <td>1.000000</td>\n",
       "      <td>1.000000</td>\n",
       "      <td>1.000000</td>\n",
       "    </tr>\n",
       "  </tbody>\n",
       "</table>\n",
       "</div>"
      ],
      "text/plain": [
       "              AGE       SPHEQ          AL         ACD          LT         VCD  \\\n",
       "count  618.000000  618.000000  618.000000  618.000000  618.000000  618.000000   \n",
       "mean     6.299353    0.801010   22.496780    3.578629    3.541453   15.376780   \n",
       "std      0.712950    0.625918    0.680141    0.230394    0.154519    0.664183   \n",
       "min      5.000000   -0.699000   19.900000    2.772000    2.960000   13.380000   \n",
       "25%      6.000000    0.456250   22.040001    3.424000    3.436000   14.930000   \n",
       "50%      6.000000    0.729000   22.464999    3.585000    3.542000   15.360000   \n",
       "75%      6.000000    1.034000   22.969999    3.730000    3.640000   15.840000   \n",
       "max      9.000000    4.372000   24.559999    4.250000    4.112000   17.299999   \n",
       "\n",
       "          SPORTHR      READHR      COMPHR     STUDYHR        TVHR   DIOPTERHR  \\\n",
       "count  618.000000  618.000000  618.000000  618.000000  618.000000  618.000000   \n",
       "mean    11.953074    2.796117    2.105178    1.490291    8.948220   26.017799   \n",
       "std      7.968296    3.068191    3.056508    2.216207    5.719021   16.031715   \n",
       "min      0.000000    0.000000    0.000000    0.000000    0.000000    2.000000   \n",
       "25%      6.000000    0.000000    0.000000    0.000000    4.250000   15.000000   \n",
       "50%     10.000000    2.000000    1.000000    1.000000    8.000000   23.000000   \n",
       "75%     16.000000    4.000000    3.000000    2.000000   12.000000   34.000000   \n",
       "max     45.000000   20.000000   30.000000   15.000000   31.000000  101.000000   \n",
       "\n",
       "            MOMMY       DADMY      MYOPIC  \n",
       "count  618.000000  618.000000  618.000000  \n",
       "mean     0.506472    0.498382    0.131068  \n",
       "std      0.500363    0.500402    0.337748  \n",
       "min      0.000000    0.000000    0.000000  \n",
       "25%      0.000000    0.000000    0.000000  \n",
       "50%      1.000000    0.000000    0.000000  \n",
       "75%      1.000000    1.000000    0.000000  \n",
       "max      1.000000    1.000000    1.000000  "
      ]
     },
     "execution_count": 6,
     "metadata": {},
     "output_type": "execute_result"
    }
   ],
   "source": [
    "# statistical summary\n",
    "df_myopia.describe()"
   ]
  },
  {
   "cell_type": "code",
   "execution_count": 7,
   "metadata": {},
   "outputs": [],
   "source": [
    "# remove the 'MYOPIC' column from the dataset (prevents bias)\n",
    "df_myopia = df_myopia.drop('MYOPIC', axis = 1)\n",
    "\n",
    "# save a new csv file of the cleaned dataframe for future use\n",
    "file_path = Path('resources/cleaned_myopia.csv')\n",
    "df_myopia.to_csv(file_path, index = False)"
   ]
  },
  {
   "cell_type": "code",
   "execution_count": 8,
   "metadata": {},
   "outputs": [
    {
     "data": {
      "text/plain": [
       "array([-0.42021911, -1.3639169 , -0.89286146,  0.48378402, -0.28144315,\n",
       "       -1.0197916 ,  4.1506609 ,  1.69744958, -0.68931054, -0.67299591,\n",
       "        0.18405806,  0.49830393,  0.98713773,  1.0032415 ])"
      ]
     },
     "execution_count": 8,
     "metadata": {},
     "output_type": "execute_result"
    }
   ],
   "source": [
    "# scale the dataset so that columns containing larger values do not influence the outcome more than columns with smaller values\n",
    "scaler = StandardScaler()\n",
    "myo_scaled = scaler.fit_transform(df_myopia)\n",
    "myo_scaled[0]"
   ]
  },
  {
   "cell_type": "markdown",
   "metadata": {},
   "source": [
    "#### Apply Dimension Reduction"
   ]
  },
  {
   "cell_type": "code",
   "execution_count": 9,
   "metadata": {},
   "outputs": [
    {
     "data": {
      "text/plain": [
       "0.9187361702915187"
      ]
     },
     "execution_count": 9,
     "metadata": {},
     "output_type": "execute_result"
    }
   ],
   "source": [
    "# dimensionalty reduction (dred) with PCA\n",
    "  \n",
    "# initialize PCA model preserving 90% of the explained variance in the dred\n",
    "pca = PCA(n_components = 0.9)\n",
    "\n",
    "# get the principle components for the myopia data\n",
    "myopia_pca = pca.fit_transform(myo_scaled)\n",
    "\n",
    "# get the explained variance ratio\n",
    "pca.explained_variance_ratio_.sum()"
   ]
  },
  {
   "cell_type": "code",
   "execution_count": 10,
   "metadata": {},
   "outputs": [
    {
     "data": {
      "text/plain": [
       "(618, 10)"
      ]
     },
     "execution_count": 10,
     "metadata": {},
     "output_type": "execute_result"
    }
   ],
   "source": [
    "# features reduced from 15 to 10 after reduction\n",
    "myopia_pca.shape"
   ]
  },
  {
   "cell_type": "code",
   "execution_count": 11,
   "metadata": {},
   "outputs": [
    {
     "name": "stdout",
     "output_type": "stream",
     "text": [
      "[t-SNE] Computing 151 nearest neighbors...\n",
      "[t-SNE] Indexed 618 samples in 0.002s...\n",
      "[t-SNE] Computed neighbors for 618 samples in 0.039s...\n",
      "[t-SNE] Computed conditional probabilities for sample 618 / 618\n",
      "[t-SNE] Mean sigma: 1.438866\n",
      "[t-SNE] KL divergence after 250 iterations with early exaggeration: 102.501373\n",
      "[t-SNE] KL divergence after 2500 iterations: 2.172731\n"
     ]
    }
   ],
   "source": [
    "# further reduce the dataset dimensions with t_SNE\n",
    "\n",
    "# initialize the t_SNE model\n",
    "tsne = TSNE(learning_rate=250, n_components=3, perplexity=50, verbose=1, n_iter=2500)\n",
    "\n",
    "# reduce dimensions\n",
    "tsne_features = tsne.fit_transform(myopia_pca)"
   ]
  },
  {
   "cell_type": "code",
   "execution_count": 12,
   "metadata": {},
   "outputs": [
    {
     "data": {
      "text/plain": [
       "(618, 3)"
      ]
     },
     "execution_count": 12,
     "metadata": {},
     "output_type": "execute_result"
    }
   ],
   "source": [
    "# shape of features after tSNE reduction\n",
    "tsne_features.shape"
   ]
  },
  {
   "cell_type": "code",
   "execution_count": 13,
   "metadata": {},
   "outputs": [
    {
     "data": {
      "image/png": "[encoded data removed]",
      "text/plain": [
       "<Figure size 432x288 with 1 Axes>"
      ]
     },
     "metadata": {
      "needs_background": "light"
     },
     "output_type": "display_data"
    }
   ],
   "source": [
    "# create a scatter plot of the t-SNE output\n",
    "plt.scatter(tsne_features[:,0],tsne_features[:,1],c=labels)\n",
    "plt.show()\n"
   ]
  },
  {
   "cell_type": "markdown",
   "metadata": {},
   "source": [
    "#### K-means Cluster Analysis"
   ]
  },
  {
   "cell_type": "code",
   "execution_count": 14,
   "metadata": {},
   "outputs": [
    {
     "data": {
      "text/html": [
       "<div>\n",
       "<style scoped>\n",
       "    .dataframe tbody tr th:only-of-type {\n",
       "        vertical-align: middle;\n",
       "    }\n",
       "\n",
       "    .dataframe tbody tr th {\n",
       "        vertical-align: top;\n",
       "    }\n",
       "\n",
       "    .dataframe thead th {\n",
       "        text-align: right;\n",
       "    }\n",
       "</style>\n",
       "<table border=\"1\" class=\"dataframe\">\n",
       "  <thead>\n",
       "    <tr style=\"text-align: right;\">\n",
       "      <th></th>\n",
       "      <th>k</th>\n",
       "      <th>inertia</th>\n",
       "    </tr>\n",
       "  </thead>\n",
       "  <tbody>\n",
       "    <tr>\n",
       "      <th>0</th>\n",
       "      <td>1</td>\n",
       "      <td>7948.905345</td>\n",
       "    </tr>\n",
       "    <tr>\n",
       "      <th>1</th>\n",
       "      <td>2</td>\n",
       "      <td>6794.415695</td>\n",
       "    </tr>\n",
       "    <tr>\n",
       "      <th>2</th>\n",
       "      <td>3</td>\n",
       "      <td>6031.097742</td>\n",
       "    </tr>\n",
       "    <tr>\n",
       "      <th>3</th>\n",
       "      <td>4</td>\n",
       "      <td>5662.587617</td>\n",
       "    </tr>\n",
       "    <tr>\n",
       "      <th>4</th>\n",
       "      <td>5</td>\n",
       "      <td>5376.410589</td>\n",
       "    </tr>\n",
       "  </tbody>\n",
       "</table>\n",
       "</div>"
      ],
      "text/plain": [
       "   k      inertia\n",
       "0  1  7948.905345\n",
       "1  2  6794.415695\n",
       "2  3  6031.097742\n",
       "3  4  5662.587617\n",
       "4  5  5376.410589"
      ]
     },
     "execution_count": 14,
     "metadata": {},
     "output_type": "execute_result"
    }
   ],
   "source": [
    "# create an elbow plot to identify the best number of clusters\n",
    "\n",
    "# use a for loop to determine the inertia for each k between 1 through 10\n",
    "inertia = []\n",
    "k = list(range(1, 11))\n",
    "\n",
    "# calculate the inertia for the range of k values\n",
    "for i in k:\n",
    "    km = KMeans(n_clusters=i, random_state=0)\n",
    "    km.fit(myopia_pca)\n",
    "    inertia.append(km.inertia_)\n",
    "\n",
    "elbow_data = {'k': k, 'inertia': inertia}\n",
    "elbow_df = me.DataFrame(elbow_data)\n",
    "elbow_df.head()"
   ]
  },
  {
   "cell_type": "code",
   "execution_count": 15,
   "metadata": {},
   "outputs": [
    {
     "data": {
      "image/png": "[encoded data removed]",
      "text/plain": [
       "<Figure size 432x288 with 1 Axes>"
      ]
     },
     "metadata": {
      "needs_background": "light"
     },
     "output_type": "display_data"
    }
   ],
   "source": [
    "# plot the elbow curve to find the best candidate(s) for k\n",
    "plt.plot(elbow_df['k'], elbow_df['inertia'])\n",
    "plt.xticks(range(1,11))\n",
    "plt.xlabel('Number of clusters')\n",
    "plt.ylabel('Inertia')\n",
    "plt.title('Myopia Elbow Curvee')\n",
    "plt.show()\n",
    "\n",
    "# The elbow is at k=3"
   ]
  },
  {
   "cell_type": "code",
   "execution_count": 16,
   "metadata": {},
   "outputs": [
    {
     "data": {
      "text/html": [
       "<div>\n",
       "<style scoped>\n",
       "    .dataframe tbody tr th:only-of-type {\n",
       "        vertical-align: middle;\n",
       "    }\n",
       "\n",
       "    .dataframe tbody tr th {\n",
       "        vertical-align: top;\n",
       "    }\n",
       "\n",
       "    .dataframe thead th {\n",
       "        text-align: right;\n",
       "    }\n",
       "</style>\n",
       "<table border=\"1\" class=\"dataframe\">\n",
       "  <thead>\n",
       "    <tr style=\"text-align: right;\">\n",
       "      <th></th>\n",
       "      <th>1</th>\n",
       "      <th>2</th>\n",
       "      <th>3</th>\n",
       "      <th>4</th>\n",
       "      <th>5</th>\n",
       "      <th>6</th>\n",
       "      <th>7</th>\n",
       "      <th>8</th>\n",
       "      <th>9</th>\n",
       "      <th>10</th>\n",
       "      <th>class</th>\n",
       "    </tr>\n",
       "  </thead>\n",
       "  <tbody>\n",
       "    <tr>\n",
       "      <th>0</th>\n",
       "      <td>0.535503</td>\n",
       "      <td>1.145004</td>\n",
       "      <td>-1.385019</td>\n",
       "      <td>0.116006</td>\n",
       "      <td>-3.226691</td>\n",
       "      <td>-1.928459</td>\n",
       "      <td>-1.958892</td>\n",
       "      <td>-1.922997</td>\n",
       "      <td>0.026753</td>\n",
       "      <td>0.178144</td>\n",
       "      <td>6</td>\n",
       "    </tr>\n",
       "    <tr>\n",
       "      <th>1</th>\n",
       "      <td>-0.624706</td>\n",
       "      <td>-1.575786</td>\n",
       "      <td>-0.794253</td>\n",
       "      <td>1.156287</td>\n",
       "      <td>0.292256</td>\n",
       "      <td>0.349060</td>\n",
       "      <td>-0.455206</td>\n",
       "      <td>0.285332</td>\n",
       "      <td>0.689683</td>\n",
       "      <td>-0.557031</td>\n",
       "      <td>2</td>\n",
       "    </tr>\n",
       "    <tr>\n",
       "      <th>2</th>\n",
       "      <td>-0.933479</td>\n",
       "      <td>-0.717076</td>\n",
       "      <td>0.820150</td>\n",
       "      <td>-1.547638</td>\n",
       "      <td>0.173941</td>\n",
       "      <td>0.272783</td>\n",
       "      <td>0.025821</td>\n",
       "      <td>-0.030817</td>\n",
       "      <td>-0.431499</td>\n",
       "      <td>0.013336</td>\n",
       "      <td>8</td>\n",
       "    </tr>\n",
       "    <tr>\n",
       "      <th>3</th>\n",
       "      <td>0.106354</td>\n",
       "      <td>1.192475</td>\n",
       "      <td>-0.024441</td>\n",
       "      <td>1.507469</td>\n",
       "      <td>-2.356836</td>\n",
       "      <td>-0.023139</td>\n",
       "      <td>0.236418</td>\n",
       "      <td>-1.717109</td>\n",
       "      <td>-1.230785</td>\n",
       "      <td>-0.703400</td>\n",
       "      <td>6</td>\n",
       "    </tr>\n",
       "    <tr>\n",
       "      <th>4</th>\n",
       "      <td>-0.388503</td>\n",
       "      <td>-2.839655</td>\n",
       "      <td>-0.229767</td>\n",
       "      <td>-0.622510</td>\n",
       "      <td>0.271458</td>\n",
       "      <td>-0.928956</td>\n",
       "      <td>0.537900</td>\n",
       "      <td>-1.301787</td>\n",
       "      <td>0.279007</td>\n",
       "      <td>0.631183</td>\n",
       "      <td>2</td>\n",
       "    </tr>\n",
       "  </tbody>\n",
       "</table>\n",
       "</div>"
      ],
      "text/plain": [
       "          1         2         3         4         5         6         7  \\\n",
       "0  0.535503  1.145004 -1.385019  0.116006 -3.226691 -1.928459 -1.958892   \n",
       "1 -0.624706 -1.575786 -0.794253  1.156287  0.292256  0.349060 -0.455206   \n",
       "2 -0.933479 -0.717076  0.820150 -1.547638  0.173941  0.272783  0.025821   \n",
       "3  0.106354  1.192475 -0.024441  1.507469 -2.356836 -0.023139  0.236418   \n",
       "4 -0.388503 -2.839655 -0.229767 -0.622510  0.271458 -0.928956  0.537900   \n",
       "\n",
       "          8         9        10  class  \n",
       "0 -1.922997  0.026753  0.178144      6  \n",
       "1  0.285332  0.689683 -0.557031      2  \n",
       "2 -0.030817 -0.431499  0.013336      8  \n",
       "3 -1.717109 -1.230785 -0.703400      6  \n",
       "4 -1.301787  0.279007  0.631183      2  "
      ]
     },
     "execution_count": 16,
     "metadata": {},
     "output_type": "execute_result"
    }
   ],
   "source": [
    "# create a DataFrame from the pca transformed data for k-means modelling and plotting\n",
    "columns=[]\n",
    "for i in range(len(pca.components_)):\n",
    "    columns.append(i+1)\n",
    "pca_df = me.DataFrame(myopia_pca, columns=columns)\n",
    "pca_df['class']= km.labels_\n",
    "pca_df.head()"
   ]
  },
  {
   "cell_type": "code",
   "execution_count": 17,
   "metadata": {},
   "outputs": [
    {
     "data": {
      "image/png": "[encoded data removed]",
      "text/plain": [
       "<Figure size 432x288 with 1 Axes>"
      ]
     },
     "metadata": {
      "needs_background": "light"
     },
     "output_type": "display_data"
    }
   ],
   "source": [
    "# initialize the k-means model with n_clusters 3\n",
    "model = KMeans(n_clusters=3, random_state=0)\n",
    "\n",
    "# train the model\n",
    "model.fit(pca_df)\n",
    "\n",
    "# predict clusters\n",
    "predictions = model.predict(pca_df)\n",
    "\n",
    "# add predicted clusters to the DataFrame\n",
    "pca_df['class'] = model.labels_\n",
    "\n",
    "# plot the clusters\n",
    "plt.scatter(x=pca_df[1], y=pca_df[2], c=pca_df['class'])\n",
    "plt.xlabel('PCA 1')\n",
    "plt.ylabel('PCA 2')\n",
    "plt.title('Myopia clusters')\n",
    "plt.show()\n"
   ]
  },
  {
   "cell_type": "markdown",
   "metadata": {},
   "source": [
    "#### Findings and Recommendation"
   ]
  },
  {
   "cell_type": "markdown",
   "metadata": {},
   "source": [
    "##### Myopia Cluster Findings\n",
    "The following observations are for myopia clusters after data preperation, reduction and cluster analysis:\n",
    "* The optimal number of clusters appears to be 3, therefore patients can be clustered in 3 groups.\n",
    "* Some clear clusters formed after performing K-Means, however accuracy would benefit from a larget dataset as well as additional testing and training using the above models since the clusters have some scattering.\n"
   ]
  },
  {
   "cell_type": "markdown",
   "metadata": {},
   "source": []
  }
 ],
 "metadata": {
  "kernelspec": {
   "display_name": "Python 3.9.12 ('base')",
   "language": "python",
   "name": "python3"
  },
  "language_info": {
   "codemirror_mode": {
    "name": "ipython",
    "version": 3
   },
   "file_extension": ".py",
   "mimetype": "text/x-python",
   "name": "python",
   "nbconvert_exporter": "python",
   "pygments_lexer": "ipython3",
   "version": "3.9.12"
  },
  "orig_nbformat": 4,
  "vscode": {
   "interpreter": {
    "hash": "79287b18fb539bd2bf0a5d9e62d5d0b62a3919ecd309ecf65a24179decfe0262"
   }
  }
 },
 "nbformat": 4,
 "nbformat_minor": 2
}
